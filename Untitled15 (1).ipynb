{
  "nbformat": 4,
  "nbformat_minor": 0,
  "metadata": {
    "colab": {
      "name": "Untitled15.ipynb",
      "provenance": []
    },
    "kernelspec": {
      "name": "python3",
      "display_name": "Python 3"
    },
    "language_info": {
      "name": "python"
    }
  },
  "cells": [
    {
      "cell_type": "markdown",
      "source": [
        "Write a program to demonstrate diffirent number data types in python"
      ],
      "metadata": {
        "id": "5xfAr1K5FMkl"
      }
    },
    {
      "cell_type": "code",
      "source": [
        "#data type of the variable a:\n",
        "a = 5\n",
        "print(type(a))\n",
        "\n",
        "# 1. Text Type:  str\n",
        "j = str(\"welcome to Python\")\n",
        "print(j)\n",
        "print(type(j)) \n",
        "\n",
        "#Numeric Types:  int, float, complex\n",
        "\n",
        "# 1.int\n",
        "s = 20\n",
        "print(s)\n",
        "print(type(s)) \n",
        "\n",
        "# 2.float\n",
        "s = 20.5\n",
        "print(s)\n",
        "print(type(s)) \n",
        "\n",
        "# 3.complex\n",
        "s = 2j\n",
        "print(s)\n",
        "print(type(s)) \n",
        "\n",
        "#Sequence Types:  list, tuple, range\n",
        "\n",
        "# 1.list\n",
        "s = [\"lamborghini\", \"tesla\", \"tata\", \"Audi\", \"mahindra\"]\n",
        "print(s)\n",
        "print(type(s)) \n",
        "\n",
        "# 2.tuple \n",
        "s = (\"samsung\", \"vivo\", \"mi\", \"oneplus\", \"nokia\")\n",
        "print(s)\n",
        "print(type(s)) \n",
        "\n",
        "# 3. range\n",
        "s = range(7)\n",
        "print(s)\n",
        "print(type(s)) \n",
        "\n",
        "#Mapping Type:  dict\n",
        "\n",
        "#dict\n",
        "s = {\"name\" : \"jay\", \"age\" : 20}\n",
        "print(s)\n",
        "print(type(s)) \n",
        "\n",
        "#Set Types:  set, frozenset\n",
        "\n",
        "# 1. set\n",
        "p = {\"boat\", \"jbl\", \"mivi\", \"sony\"}\n",
        "print(p)\n",
        "print(type(p))\n",
        "\n",
        "# 2. frozenset\n",
        "p = frozenset({\"sony\", \"boat\", \"jbl\", \"mivi\"})\n",
        "print(p)\n",
        "print(type(p)) \n",
        "\n",
        "#Boolean Type:  bool\n",
        "x = True\n",
        "\n",
        "print(x)\n",
        "print(type(x)) \n",
        "\n",
        "#Binary Types:  bytes, bytearray, memoryview\n",
        "\n",
        "# 1. bytes\n",
        "x = b\"welcome\"\n",
        "print(x)\n",
        "print(type(x)) \n",
        "\n",
        "# 2. bytearray\n",
        "s = bytearray(4)\n",
        "print(s)\n",
        "print(type(s)) \n",
        "\n",
        "# 3.memoryview\n",
        "s = memoryview(bytes(4))\n",
        "print(s)\n",
        "print(type(s))"
      ],
      "metadata": {
        "colab": {
          "base_uri": "https://localhost:8080/"
        },
        "id": "72haSfp2FqKN",
        "outputId": "079af39c-12cf-477b-92bf-abbb7eb8486f"
      },
      "execution_count": 1,
      "outputs": [
        {
          "output_type": "stream",
          "name": "stdout",
          "text": [
            "<class 'int'>\n",
            "welcome to Python\n",
            "<class 'str'>\n",
            "20\n",
            "<class 'int'>\n",
            "20.5\n",
            "<class 'float'>\n",
            "2j\n",
            "<class 'complex'>\n",
            "['lamborghini', 'tesla', 'tata', 'Audi', 'mahindra']\n",
            "<class 'list'>\n",
            "('samsung', 'vivo', 'mi', 'oneplus', 'nokia')\n",
            "<class 'tuple'>\n",
            "range(0, 7)\n",
            "<class 'range'>\n",
            "{'name': 'jay', 'age': 20}\n",
            "<class 'dict'>\n",
            "{'mivi', 'boat', 'jbl', 'sony'}\n",
            "<class 'set'>\n",
            "frozenset({'mivi', 'sony', 'boat', 'jbl'})\n",
            "<class 'frozenset'>\n",
            "True\n",
            "<class 'bool'>\n",
            "b'welcome'\n",
            "<class 'bytes'>\n",
            "bytearray(b'\\x00\\x00\\x00\\x00')\n",
            "<class 'bytearray'>\n",
            "<memory at 0x7f1a3017de20>\n",
            "<class 'memoryview'>\n"
          ]
        }
      ]
    }
  ]
}